{
 "cells": [
  {
   "cell_type": "code",
   "execution_count": 1,
   "id": "8d4acbe7-eb3f-4e5b-b66c-7693a9fecbaa",
   "metadata": {},
   "outputs": [],
   "source": [
    "import numpy as np\n",
    "import joblib\n",
    "from sklearn.preprocessing import PolynomialFeatures\n",
    "from sklearn.linear_model import LinearRegression\n",
    "import matplotlib\n",
    "import matplotlib.pyplot as plt"
   ]
  },
  {
   "cell_type": "code",
   "execution_count": 2,
   "id": "206c9767-d0fe-44a3-9b6e-016986a3b4f2",
   "metadata": {},
   "outputs": [],
   "source": [
    "loaded_model, loaded_poly = joblib.load('square_predictor.pkl')\n"
   ]
  },
  {
   "cell_type": "code",
   "execution_count": 8,
   "id": "e1f9768e-0e88-4ab3-bb38-228f54333677",
   "metadata": {},
   "outputs": [
    {
     "name": "stdin",
     "output_type": "stream",
     "text": [
      "Enter a value for prediction:  50\n"
     ]
    },
    {
     "name": "stdout",
     "output_type": "stream",
     "text": [
      "Prediction for x=50.0: 2500.0000000000005\n"
     ]
    },
    {
     "name": "stdin",
     "output_type": "stream",
     "text": [
      "Enter a value for prediction:  55\n"
     ]
    },
    {
     "name": "stdout",
     "output_type": "stream",
     "text": [
      "Prediction for x=55.0: 3025.0000000000005\n"
     ]
    },
    {
     "name": "stdin",
     "output_type": "stream",
     "text": [
      "Enter a value for prediction:  23\n"
     ]
    },
    {
     "name": "stdout",
     "output_type": "stream",
     "text": [
      "Prediction for x=23.0: 528.9999999999999\n"
     ]
    }
   ],
   "source": [
    "while(userinput!=23):\n",
    "    # Step 2: Get the user input (ensure it's a number)\n",
    "    userinput = float(input(\"Enter a value for prediction: \"))  # or any value you wish\n",
    "\n",
    "    # Step 3: Prepare the input for prediction (reshape and transform)\n",
    "    x_testing = np.array([[userinput]])  # Input should be 2D\n",
    "    x_testing_poly = loaded_poly.transform(x_testing)  # Apply the same polynomial transformation\n",
    "\n",
    "    # Step 4: Make prediction using the loaded model\n",
    "    y_predict = loaded_model.predict(x_testing_poly)\n",
    "\n",
    "    # Step 5: Print prediction\n",
    "    print(f\"Prediction for x={userinput}: {y_predict[0]}\")"
   ]
  }
 ],
 "metadata": {
  "kernelspec": {
   "display_name": "Ice",
   "language": "python",
   "name": "your_environment_name"
  },
  "language_info": {
   "codemirror_mode": {
    "name": "ipython",
    "version": 3
   },
   "file_extension": ".py",
   "mimetype": "text/x-python",
   "name": "python",
   "nbconvert_exporter": "python",
   "pygments_lexer": "ipython3",
   "version": "3.9.20"
  }
 },
 "nbformat": 4,
 "nbformat_minor": 5
}
